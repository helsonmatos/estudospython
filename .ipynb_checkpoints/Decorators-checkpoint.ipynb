{
 "cells": [
  {
   "cell_type": "code",
   "execution_count": 17,
   "id": "cf3d7111",
   "metadata": {},
   "outputs": [],
   "source": [
    "from time import time\n",
    "#Decorators = Adiciona mais funcionalidade a alguma função de sua preferência\n",
    "def calcular_tempo(funcao):\n",
    "    def wrapper():\n",
    "        print(f'Vou calcular tempo: {round(time())}')\n",
    "        funcao()\n",
    "        print(f'Calculei o tempo: {time()}')\n",
    "    return wrapper"
   ]
  },
  {
   "cell_type": "code",
   "execution_count": 20,
   "id": "38dabb74",
   "metadata": {},
   "outputs": [],
   "source": [
    "@calcular_tempo\n",
    "def pegar_numeros():\n",
    "    import random\n",
    "    numero = random.random() + 500\n",
    "    print(numero)"
   ]
  },
  {
   "cell_type": "code",
   "execution_count": 21,
   "id": "86a34664",
   "metadata": {},
   "outputs": [
    {
     "name": "stdout",
     "output_type": "stream",
     "text": [
      "Vou calcular tempo: 1642908174\n",
      "500.4072021304335\n",
      "Calculei o tempo: 1642908173.9501858\n"
     ]
    }
   ],
   "source": [
    "pegar_numeros()"
   ]
  },
  {
   "cell_type": "code",
   "execution_count": null,
   "id": "b7e9b944",
   "metadata": {},
   "outputs": [],
   "source": []
  }
 ],
 "metadata": {
  "kernelspec": {
   "display_name": "Python 3.9.7 64-bit ('base': conda)",
   "language": "python",
   "name": "python397jvsc74a57bd0b2e4510b7017812cdfafc63a823232b40686eff34486759b8b3cac5da40b4036"
  },
  "language_info": {
   "codemirror_mode": {
    "name": "ipython",
    "version": 3
   },
   "file_extension": ".py",
   "mimetype": "text/x-python",
   "name": "python",
   "nbconvert_exporter": "python",
   "pygments_lexer": "ipython3",
   "version": "3.9.7"
  }
 },
 "nbformat": 4,
 "nbformat_minor": 5
}
