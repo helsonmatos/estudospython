{
 "cells": [
  {
   "cell_type": "code",
   "execution_count": 10,
   "id": "af50e7bf",
   "metadata": {},
   "outputs": [
    {
     "name": "stdout",
     "output_type": "stream",
     "text": [
      "Email Enviado\n"
     ]
    }
   ],
   "source": [
    "import win32com.client as win32\n",
    "\n",
    "# Criar a integração com o outlook\n",
    "outlook = win32.Dispatch('outlook.application')\n",
    "\n",
    "# Criar um email\n",
    "email = outlook.CreateItem(0)\n",
    "\n",
    "# variável\n",
    "dia = \"Final de semana\"\n",
    "\n",
    "# configurar as informações do seu e-mail\n",
    "email.To = \"larissa.diva9@hotmail.com\"\n",
    "email.Subject = \"E-mail automático do Python\"\n",
    "email.HTMLBody = f\"\"\"\n",
    "<p>Olá Diva, aqui é o código Python</p>\n",
    "\n",
    "<p>Te desejo um ótimo {dia}</p>\n",
    "<p>Que Deus te abençoe.</p>\n",
    "<p>Meu amor é grande por ti</p>\n",
    "\n",
    "<p>Abs,</p>\n",
    "<p>Código Python</p>\n",
    "\"\"\"\n",
    "\n",
    "# anexo = \"C://Users/joaop/Downloads/arquivo.xlsx\"\n",
    "# email.Attachments.Add(anexo)\n",
    "\n",
    "email.Send()\n",
    "print(\"Email Enviado\")"
   ]
  },
  {
   "cell_type": "code",
   "execution_count": null,
   "id": "99526ed1",
   "metadata": {},
   "outputs": [],
   "source": []
  }
 ],
 "metadata": {
  "kernelspec": {
   "display_name": "Python 3.9.7 64-bit ('base': conda)",
   "language": "python",
   "name": "python397jvsc74a57bd0b2e4510b7017812cdfafc63a823232b40686eff34486759b8b3cac5da40b4036"
  },
  "language_info": {
   "codemirror_mode": {
    "name": "ipython",
    "version": 3
   },
   "file_extension": ".py",
   "mimetype": "text/x-python",
   "name": "python",
   "nbconvert_exporter": "python",
   "pygments_lexer": "ipython3",
   "version": "3.9.7"
  }
 },
 "nbformat": 4,
 "nbformat_minor": 5
}
