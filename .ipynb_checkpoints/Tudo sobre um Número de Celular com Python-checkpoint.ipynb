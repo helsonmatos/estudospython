{
 "cells": [
  {
   "cell_type": "code",
   "execution_count": 3,
   "id": "5c05724e",
   "metadata": {},
   "outputs": [
    {
     "name": "stdout",
     "output_type": "stream",
     "text": [
      "Country Code: 55 National Number: 71991321560\n"
     ]
    }
   ],
   "source": [
    "#pypi.org/project/phonenumbers/\n",
    "import phonenumbers\n",
    "\n",
    "# ajuste do telefone para usarmos o phonenumbers\n",
    "telefone = \"+5571991321560\"\n",
    "telefone_ajustado = phonenumbers.parse(telefone)\n",
    "print(telefone_ajustado)"
   ]
  },
  {
   "cell_type": "code",
   "execution_count": 4,
   "id": "ad3472d5",
   "metadata": {},
   "outputs": [
    {
     "name": "stdout",
     "output_type": "stream",
     "text": [
      "Bahia\n"
     ]
    }
   ],
   "source": [
    "# descobrir a localização do telefone\n",
    "from phonenumbers import geocoder\n",
    "local = geocoder.description_for_number(telefone_ajustado, 'pt-br')\n",
    "print(local)"
   ]
  },
  {
   "cell_type": "code",
   "execution_count": 5,
   "id": "75ebadc0",
   "metadata": {},
   "outputs": [
    {
     "name": "stdout",
     "output_type": "stream",
     "text": [
      "(71) 99132-1560\n"
     ]
    }
   ],
   "source": [
    "# formatar um número de telefone\n",
    "telefone_formulario = \"71991321560\"\n",
    "telefone_formulario_ajustado = phonenumbers.parse(telefone_formulario, \"BR\")\n",
    "telefone_formatado = phonenumbers.format_number(telefone_formulario_ajustado, phonenumbers.PhoneNumberFormat.NATIONAL)\n",
    "print(telefone_formatado)"
   ]
  },
  {
   "cell_type": "code",
   "execution_count": 8,
   "id": "68fb09e8",
   "metadata": {},
   "outputs": [
    {
     "name": "stdout",
     "output_type": "stream",
     "text": [
      "TIM\n"
     ]
    }
   ],
   "source": [
    "# descobrir a operadora do telefone\n",
    "from phonenumbers import carrier\n",
    "operadora = carrier.name_for_number(telefone_ajustado, \"BR\")\n",
    "print(operadora)"
   ]
  },
  {
   "cell_type": "code",
   "execution_count": 11,
   "id": "9fdf5071",
   "metadata": {},
   "outputs": [
    {
     "name": "stdout",
     "output_type": "stream",
     "text": [
      "PhoneNumberMatch [93,107) (71)99132-1560\n"
     ]
    }
   ],
   "source": [
    "# retirar um telefone de um texto\n",
    "corpo_email = \"\"\"\n",
    "Prezados,\n",
    "    \n",
    "Quando tiverem a resposta da proposta, favor entrar em contato.\n",
    "\n",
    "Abs,\n",
    "Helson\n",
    "(71)99132-1560\n",
    "\"\"\"\n",
    "for telefone in phonenumbers.PhoneNumberMatcher(corpo_email,'BR'):\n",
    "    print(telefone)"
   ]
  },
  {
   "cell_type": "code",
   "execution_count": null,
   "id": "ce09217d",
   "metadata": {},
   "outputs": [],
   "source": []
  }
 ],
 "metadata": {
  "kernelspec": {
   "display_name": "Python 3.9.7 64-bit ('base': conda)",
   "language": "python",
   "name": "python397jvsc74a57bd0b2e4510b7017812cdfafc63a823232b40686eff34486759b8b3cac5da40b4036"
  },
  "language_info": {
   "codemirror_mode": {
    "name": "ipython",
    "version": 3
   },
   "file_extension": ".py",
   "mimetype": "text/x-python",
   "name": "python",
   "nbconvert_exporter": "python",
   "pygments_lexer": "ipython3",
   "version": "3.9.7"
  }
 },
 "nbformat": 4,
 "nbformat_minor": 5
}
