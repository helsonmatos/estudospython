{
 "cells": [
  {
   "cell_type": "markdown",
   "id": "0c37f1b3",
   "metadata": {},
   "source": [
    "# Criando código de barras"
   ]
  },
  {
   "cell_type": "code",
   "execution_count": 5,
   "id": "574e4f85",
   "metadata": {},
   "outputs": [
    {
     "data": {
      "text/plain": [
       "'codigo_barra_teste.png'"
      ]
     },
     "execution_count": 5,
     "metadata": {},
     "output_type": "execute_result"
    }
   ],
   "source": [
    "from barcode import EAN13\n",
    "from barcode.writer import ImageWriter\n",
    "\n",
    "codigo_barra = EAN13('216549851321', writer=ImageWriter())\n",
    "codigo_barra.save('codigo_barra_teste')"
   ]
  },
  {
   "cell_type": "code",
   "execution_count": 8,
   "id": "e4f339df",
   "metadata": {},
   "outputs": [
    {
     "name": "stdout",
     "output_type": "stream",
     "text": [
      "Finalizado...\n"
     ]
    }
   ],
   "source": [
    "codigos_produtos = {\n",
    "    \"Feijao\": \"551746511111\",\n",
    "    \"Arroz\": \"665789011111\",\n",
    "    \"Macarrao\": \"665887111111\",\n",
    "    \"Azeite\": \"998556211111\"}\n",
    "\n",
    "for produto in codigos_produtos:\n",
    "    codigo = codigos_produtos[produto]\n",
    "    codigo_barra = EAN13(codigo, writer=ImageWriter())\n",
    "    codigo_barra.save(f'codigo_barra_{produto}')\n",
    "print('Finalizado...')"
   ]
  },
  {
   "cell_type": "markdown",
   "id": "0b4808e2",
   "metadata": {},
   "source": [
    "# Criando Qrcode"
   ]
  },
  {
   "cell_type": "code",
   "execution_count": 9,
   "id": "4c07df6e",
   "metadata": {},
   "outputs": [],
   "source": [
    "import qrcode\n",
    "\n",
    "imagem_qrcode = qrcode.make('https://github.com/helsonmatos')\n",
    "imagem_qrcode.save('helsongit.png')"
   ]
  },
  {
   "cell_type": "code",
   "execution_count": null,
   "id": "9a958b35",
   "metadata": {},
   "outputs": [],
   "source": []
  }
 ],
 "metadata": {
  "kernelspec": {
   "display_name": "Python 3.9.7 64-bit ('base': conda)",
   "language": "python",
   "name": "python397jvsc74a57bd0b2e4510b7017812cdfafc63a823232b40686eff34486759b8b3cac5da40b4036"
  },
  "language_info": {
   "codemirror_mode": {
    "name": "ipython",
    "version": 3
   },
   "file_extension": ".py",
   "mimetype": "text/x-python",
   "name": "python",
   "nbconvert_exporter": "python",
   "pygments_lexer": "ipython3",
   "version": "3.9.7"
  }
 },
 "nbformat": 4,
 "nbformat_minor": 5
}
