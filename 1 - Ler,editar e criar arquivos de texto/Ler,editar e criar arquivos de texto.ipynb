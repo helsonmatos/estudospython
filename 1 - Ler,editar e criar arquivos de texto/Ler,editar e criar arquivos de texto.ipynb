{
 "cells": [
  {
   "cell_type": "markdown",
   "id": "4ff83cc7",
   "metadata": {},
   "source": [
    "# Python e Arquivos de texto"
   ]
  },
  {
   "cell_type": "markdown",
   "id": "13bd1ccc",
   "metadata": {},
   "source": [
    "* Use sempre o método With"
   ]
  },
  {
   "cell_type": "markdown",
   "id": "48f3d9a9",
   "metadata": {},
   "source": [
    "### Formas de abrir um arquivo de texto"
   ]
  },
  {
   "cell_type": "markdown",
   "id": "6341a288",
   "metadata": {},
   "source": [
    "* 'r' = read = ler"
   ]
  },
  {
   "cell_type": "code",
   "execution_count": 24,
   "id": "692c1962",
   "metadata": {},
   "outputs": [
    {
     "name": "stdout",
     "output_type": "stream",
     "text": [
      "oioi\n",
      "['oioi']\n",
      "oioi\n"
     ]
    }
   ],
   "source": [
    "# read -> para arquivos simples\n",
    "with open('texto.txt','r') as arquivo:\n",
    "    texto = arquivo.read()\n",
    "print(texto)\n",
    "\n",
    "# read lines -> para arquivos maiores\n",
    "with open('texto.txt','r', encoding = 'utf-8') as arquivo:\n",
    "    texto = arquivo.readlines()\n",
    "print(texto)\n",
    "\n",
    "# pegando cada linha\n",
    "for linha in texto:\n",
    "    if 'oi' in linha:\n",
    "        print(linha)"
   ]
  },
  {
   "cell_type": "markdown",
   "id": "e71efff9",
   "metadata": {},
   "source": [
    "* 'w' = write = escrever"
   ]
  },
  {
   "cell_type": "code",
   "execution_count": 18,
   "id": "f94c6421",
   "metadata": {},
   "outputs": [],
   "source": [
    "# substitui por completo o texto que está escrito\n",
    "with open('texto2.txt','w') as arquivo:\n",
    "    arquivo.write('oi')"
   ]
  },
  {
   "cell_type": "markdown",
   "id": "f0e7b4e7",
   "metadata": {},
   "source": [
    "* 'a' = append = adicionar"
   ]
  },
  {
   "cell_type": "code",
   "execution_count": 22,
   "id": "291b6082",
   "metadata": {},
   "outputs": [
    {
     "name": "stdout",
     "output_type": "stream",
     "text": [
      "12\n"
     ]
    }
   ],
   "source": [
    "# adiciona uma informação ao texto original\n",
    "with open('texto2.txt','a') as arquivo:\n",
    "    texto = arquivo.write('\\noi tudo bom')\n",
    "print(texto)"
   ]
  },
  {
   "cell_type": "code",
   "execution_count": null,
   "id": "d48828de",
   "metadata": {},
   "outputs": [],
   "source": []
  }
 ],
 "metadata": {
  "kernelspec": {
   "display_name": "Python 3.9.7 64-bit ('base': conda)",
   "language": "python",
   "name": "python397jvsc74a57bd0b2e4510b7017812cdfafc63a823232b40686eff34486759b8b3cac5da40b4036"
  },
  "language_info": {
   "codemirror_mode": {
    "name": "ipython",
    "version": 3
   },
   "file_extension": ".py",
   "mimetype": "text/x-python",
   "name": "python",
   "nbconvert_exporter": "python",
   "pygments_lexer": "ipython3",
   "version": "3.9.7"
  }
 },
 "nbformat": 4,
 "nbformat_minor": 5
}
