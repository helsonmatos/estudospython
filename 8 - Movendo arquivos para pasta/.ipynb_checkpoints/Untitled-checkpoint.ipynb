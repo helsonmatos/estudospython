{
 "cells": [
  {
   "cell_type": "code",
   "execution_count": 13,
   "id": "f8f0eb7b",
   "metadata": {},
   "outputs": [],
   "source": [
    "import os \n",
    "\n",
    "# caminho = r'C:\\Users\\Elson\\Documents\\Python Scripts\\Notebooks de estudos de Python\\8 - Movendo arquivos para pasta'\n",
    "lista_arquivos = os.listdir(\"Mover\")\n",
    "\n",
    "for arquivo in lista_arquivos:\n",
    "    if '.xlsx' in arquivo:\n",
    "        if 'Jan' in arquivo:\n",
    "            # Jogar pra pasta de janeiro\n",
    "            os.rename(f'Mover/{arquivo}', f'Mover/Jan/{arquivo}')\n",
    "        if 'Fev' in arquivo:\n",
    "            # Jogar pra pasta de fevereiro\n",
    "            os.rename(f'Mover/{arquivo}', f'Mover/Fev/{arquivo}')\n",
    "        if 'Mar' in arquivo:\n",
    "            # Jogar pra pasta de março\n",
    "            os.rename(f'Mover/{arquivo}', f'Mover/Mar/{arquivo}')"
   ]
  },
  {
   "cell_type": "code",
   "execution_count": null,
   "id": "5eaed34a",
   "metadata": {},
   "outputs": [],
   "source": []
  }
 ],
 "metadata": {
  "kernelspec": {
   "display_name": "Python 3.9.7 64-bit ('base': conda)",
   "language": "python",
   "name": "python397jvsc74a57bd0b2e4510b7017812cdfafc63a823232b40686eff34486759b8b3cac5da40b4036"
  },
  "language_info": {
   "codemirror_mode": {
    "name": "ipython",
    "version": 3
   },
   "file_extension": ".py",
   "mimetype": "text/x-python",
   "name": "python",
   "nbconvert_exporter": "python",
   "pygments_lexer": "ipython3",
   "version": "3.9.7"
  }
 },
 "nbformat": 4,
 "nbformat_minor": 5
}
