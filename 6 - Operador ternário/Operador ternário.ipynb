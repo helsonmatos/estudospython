{
 "cells": [
  {
   "cell_type": "markdown",
   "id": "8321f8d4",
   "metadata": {},
   "source": [
    "# Operador ternário"
   ]
  },
  {
   "cell_type": "markdown",
   "id": "b2525176",
   "metadata": {},
   "source": [
    "### if tradicional"
   ]
  },
  {
   "cell_type": "code",
   "execution_count": 1,
   "id": "28d987b1",
   "metadata": {},
   "outputs": [
    {
     "name": "stdout",
     "output_type": "stream",
     "text": [
      "0\n"
     ]
    }
   ],
   "source": [
    "vendas = 500\n",
    "\n",
    "if vendas > 500:\n",
    "    bonus = 50\n",
    "else:\n",
    "    bonus = 0\n",
    "print(bonus)"
   ]
  },
  {
   "cell_type": "markdown",
   "id": "960b95ad",
   "metadata": {},
   "source": [
    "### if Ternário"
   ]
  },
  {
   "cell_type": "code",
   "execution_count": 3,
   "id": "9d98f935",
   "metadata": {},
   "outputs": [
    {
     "name": "stdout",
     "output_type": "stream",
     "text": [
      "0\n"
     ]
    }
   ],
   "source": [
    "bonus = 50 if vendas > 500 else 0\n",
    "print(bonus)"
   ]
  },
  {
   "cell_type": "markdown",
   "id": "8ea99349",
   "metadata": {},
   "source": [
    "### if tradicional"
   ]
  },
  {
   "cell_type": "code",
   "execution_count": 4,
   "id": "52683424",
   "metadata": {},
   "outputs": [
    {
     "name": "stdout",
     "output_type": "stream",
     "text": [
      "Faltou 200 unidades.\n"
     ]
    }
   ],
   "source": [
    "def ganhou_bonus(vendas):\n",
    "    if vendas > 500:\n",
    "        return True\n",
    "    else:\n",
    "        return f'Faltou {500 - vendas} unidades.'\n",
    "print(ganhou_bonus(300))"
   ]
  },
  {
   "cell_type": "markdown",
   "id": "b82b9e1f",
   "metadata": {},
   "source": [
    "### if ternário"
   ]
  },
  {
   "cell_type": "code",
   "execution_count": 10,
   "id": "c6546576",
   "metadata": {},
   "outputs": [],
   "source": [
    "def ganhou_bonus(vendas):\n",
    "    return vendas > 500 or f'Faltou {500 - vendas} unidades.'"
   ]
  },
  {
   "cell_type": "code",
   "execution_count": 6,
   "id": "c83c5d45",
   "metadata": {},
   "outputs": [
    {
     "data": {
      "text/plain": [
       "'Faltou 200 unidades.'"
      ]
     },
     "execution_count": 6,
     "metadata": {},
     "output_type": "execute_result"
    }
   ],
   "source": [
    "ganhou_bonus(300)"
   ]
  },
  {
   "cell_type": "code",
   "execution_count": 12,
   "id": "9074b0de",
   "metadata": {},
   "outputs": [
    {
     "data": {
      "text/plain": [
       "True"
      ]
     },
     "execution_count": 12,
     "metadata": {},
     "output_type": "execute_result"
    }
   ],
   "source": [
    "ganhou_bonus(501)"
   ]
  },
  {
   "cell_type": "code",
   "execution_count": null,
   "id": "281386da",
   "metadata": {},
   "outputs": [],
   "source": []
  }
 ],
 "metadata": {
  "kernelspec": {
   "display_name": "Python 3.9.7 64-bit ('base': conda)",
   "language": "python",
   "name": "python397jvsc74a57bd0b2e4510b7017812cdfafc63a823232b40686eff34486759b8b3cac5da40b4036"
  },
  "language_info": {
   "codemirror_mode": {
    "name": "ipython",
    "version": 3
   },
   "file_extension": ".py",
   "mimetype": "text/x-python",
   "name": "python",
   "nbconvert_exporter": "python",
   "pygments_lexer": "ipython3",
   "version": "3.9.7"
  }
 },
 "nbformat": 4,
 "nbformat_minor": 5
}
