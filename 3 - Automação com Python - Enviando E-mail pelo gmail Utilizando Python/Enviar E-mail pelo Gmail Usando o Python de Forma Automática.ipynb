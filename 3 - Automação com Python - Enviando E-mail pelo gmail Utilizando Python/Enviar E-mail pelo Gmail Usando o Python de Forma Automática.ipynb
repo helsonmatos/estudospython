{
 "cells": [
  {
   "cell_type": "markdown",
   "id": "46329114",
   "metadata": {},
   "source": [
    "# Enviando E-mail pelo G-mail"
   ]
  },
  {
   "cell_type": "markdown",
   "id": "d722ad05",
   "metadata": {},
   "source": [
    "## Importando as Bibliotecas"
   ]
  },
  {
   "cell_type": "code",
   "execution_count": 6,
   "id": "d4714311",
   "metadata": {},
   "outputs": [],
   "source": [
    "import smtplib\n",
    "import email.message"
   ]
  },
  {
   "cell_type": "code",
   "execution_count": 7,
   "id": "4ab07c3a",
   "metadata": {},
   "outputs": [],
   "source": [
    "# Definindo a função para enviar mensagem\n",
    "def enviar_email(corpo_email,assunto,remetente,destinatario): \n",
    "    \n",
    "    msg = email.message.Message()\n",
    "    msg['Subject'] = assunto\n",
    "    msg['From'] = remetente\n",
    "    msg['To'] = destinatario\n",
    "    password = 'senhaaqui'\n",
    "    msg.add_header('Content-Type', 'text/html')\n",
    "    msg.set_payload(corpo_email)\n",
    "\n",
    "    s = smtplib.SMTP('smtp.gmail.com: 587')\n",
    "    s.starttls()\n",
    "    # Login Credentials for sending the mail\n",
    "    s.login(msg['From'], password)\n",
    "    s.sendmail(msg['From'], [msg['To']], msg.as_string().encode('utf-8'))\n",
    "    print('Email enviado')"
   ]
  },
  {
   "cell_type": "code",
   "execution_count": 8,
   "id": "f9134ab0",
   "metadata": {},
   "outputs": [
    {
     "name": "stdout",
     "output_type": "stream",
     "text": [
      "Email enviado\n"
     ]
    }
   ],
   "source": [
    "enviar_email(\"\"\"\n",
    "    <p>Olá Helson</p>\n",
    "    <p>Tudo bom?</p>\n",
    "    \"\"\",'Automação para Gmail','helsonmatos.11@gmail.com','helsonmatos.11@gmail.com')"
   ]
  },
  {
   "cell_type": "code",
   "execution_count": null,
   "id": "985f4b29",
   "metadata": {},
   "outputs": [],
   "source": []
  }
 ],
 "metadata": {
  "kernelspec": {
   "display_name": "Python 3.9.7 64-bit ('base': conda)",
   "language": "python",
   "name": "python397jvsc74a57bd0b2e4510b7017812cdfafc63a823232b40686eff34486759b8b3cac5da40b4036"
  },
  "language_info": {
   "codemirror_mode": {
    "name": "ipython",
    "version": 3
   },
   "file_extension": ".py",
   "mimetype": "text/x-python",
   "name": "python",
   "nbconvert_exporter": "python",
   "pygments_lexer": "ipython3",
   "version": "3.9.7"
  }
 },
 "nbformat": 4,
 "nbformat_minor": 5
}
