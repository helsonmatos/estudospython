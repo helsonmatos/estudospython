{
 "cells": [
  {
   "cell_type": "code",
   "execution_count": 4,
   "id": "110bd2bf",
   "metadata": {},
   "outputs": [],
   "source": [
    "from hashlib import sha256\n",
    "import time"
   ]
  },
  {
   "cell_type": "code",
   "execution_count": 8,
   "id": "02ba8f7a",
   "metadata": {},
   "outputs": [],
   "source": [
    "def aplicar_sha256(texto):\n",
    "    return sha256(texto.encode(\"ascii\")).hexdigest()"
   ]
  },
  {
   "cell_type": "code",
   "execution_count": 9,
   "id": "35c79ae7",
   "metadata": {},
   "outputs": [],
   "source": [
    "def minerar(num_bloco, transações, hash_anterior, gtde_zeros):\n",
    "    nonce = 0\n",
    "    while True:\n",
    "        texto = str(num_bloco) + transações + hash_anterior + str(nonce)\n",
    "        meu_hash = aplicar_sha256(texto)\n",
    "        if meu_hash.startswith(\"0\" * qtde_zeros):\n",
    "            return nonce, meu_hash\n",
    "        nonce += 1"
   ]
  },
  {
   "cell_type": "code",
   "execution_count": 12,
   "id": "faebdf3e",
   "metadata": {},
   "outputs": [
    {
     "name": "stdout",
     "output_type": "stream",
     "text": [
      "(4322097, '0000007d8dea8c5209dce62dbded95446a4f4ae7c88932dbd11db84e6a026620')\n"
     ]
    }
   ],
   "source": [
    "if __name__ == \"__main__\":\n",
    "    num_bloco = 15\n",
    "    transacoes = \"\"\"\n",
    "    Lira->Alon->10\n",
    "    Alon->Joao->5\n",
    "    Joao->Amanda->11\"\"\"\n",
    "    qtde_zeros = 6\n",
    "    hash_anterior = \"abc\"\n",
    "    resultado = minerar(num_bloco,transacoes,hash_anterior,qtde_zeros)\n",
    "    print(resultado)"
   ]
  },
  {
   "cell_type": "code",
   "execution_count": null,
   "id": "fab6d74a",
   "metadata": {},
   "outputs": [],
   "source": []
  }
 ],
 "metadata": {
  "kernelspec": {
   "display_name": "Python 3.9.7 64-bit ('base': conda)",
   "language": "python",
   "name": "python397jvsc74a57bd0b2e4510b7017812cdfafc63a823232b40686eff34486759b8b3cac5da40b4036"
  },
  "language_info": {
   "codemirror_mode": {
    "name": "ipython",
    "version": 3
   },
   "file_extension": ".py",
   "mimetype": "text/x-python",
   "name": "python",
   "nbconvert_exporter": "python",
   "pygments_lexer": "ipython3",
   "version": "3.9.7"
  }
 },
 "nbformat": 4,
 "nbformat_minor": 5
}
