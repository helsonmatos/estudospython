{
 "cells": [
  {
   "cell_type": "code",
   "execution_count": 1,
   "id": "2871e141",
   "metadata": {},
   "outputs": [],
   "source": [
    "import pytesseract\n",
    "import cv2"
   ]
  },
  {
   "cell_type": "code",
   "execution_count": 6,
   "id": "a485604e",
   "metadata": {},
   "outputs": [
    {
     "name": "stdout",
     "output_type": "stream",
     "text": [
      "Coe Lira, tudo certo?\n",
      "\n",
      "Então, eu queria te dar um aviso.\n",
      "\n",
      "Essas aulas tão brabas.\n",
      "\n",
      "Abração)|\n",
      "\n"
     ]
    }
   ],
   "source": [
    "caminho = r'C:\\Program Files\\Tesseract-OCR'\n",
    "pytesseract.pytesseract.tesseract_cmd = caminho + r'\\tesseract.exe'\n",
    "# 1 - ler a imagem\n",
    "imagem = cv2.imread('email.JPG')\n",
    "\n",
    "# 2 - Extrair o texto da imagem com o tesseract\n",
    "texto = pytesseract.image_to_string(imagem, lang='por')\n",
    "\n",
    "print(texto)"
   ]
  },
  {
   "cell_type": "code",
   "execution_count": 7,
   "id": "6b30131d",
   "metadata": {},
   "outputs": [
    {
     "name": "stdout",
     "output_type": "stream",
     "text": [
      "MGLU\n",
      "\n",
      "B3 LISTED NM\n",
      "\n",
      "| Destaques do 2T21\n",
      "\n",
      "Vendas totais cresceram 60% no 2T21, atingindo R$13,7 bilhões\n",
      "\n",
      "E-commerce cresceu 46% no 2721, atingindo R$9,8 bilhões e 72% das vendas totais\n",
      "\n",
      "Marketplace atingiu R$3,0 bilhões em vendas, crescendo 63%\n",
      "\n",
      "Vendas nas lojas físicas evoluíram 112% no total (102% no crescimento mesmas lojas)\n",
      "EBITDA ajustado atingiu R$455 milhões no 2721 (crescimento de 209%)\n",
      "Lucro líquido ajustado de R$89 milhões no 21721\n",
      "\n",
      "Posição de caixa ajustado de R$6,1 bilhões (R$10,0 bilhões considerando o follow-on)\n",
      "\n",
      "IZ Ganho consistente de participação de mercado. No 2721, as vendas totais, incluindo lojas físicas, e-commerce com\n",
      "estoque próprio (1P) e marketplace (3P) cresceram expressivos 60,5% para R$13,7 bilhões, reflexo do aumento de 46,4% no\n",
      "e-commerce total e de 111,6% nas lojas físicas. O excelente desempenho das vendas foi alcançado mesmo com parte das\n",
      "lojas físicas ainda fechadas em função da covid-19, principalmente no mês de abril. No 2121, o Magalu expandiu sua\n",
      "participação de mercado em 3,7 p.p. comparada com o 2T20, segundo a GFK.\n",
      "\n",
      "l=, E-commerce continua em ritmo muito acelerado. No 2721, o e-commerce brasileiro cresceu 16,8%, segundo a\n",
      "Neotrust, com o Magalu crescendo muito mais que o mercado. No período, as vendas do e-commerce do Magalu avançaram\n",
      "46,4%, mesmo com uma forte base de comparação (crescimento de 181,9% no 2T20). No e-commerce com estoque próprio\n",
      "(1P), as vendas evoluíram 40,1% e o marketplace contribuiu com R$3,0 bilhões, crescendo 63,3%. O forte ganho de\n",
      "marketshare foi impulsionado pela excelente performance do app, com 32 milhões de usuários ativos mensais. Também\n",
      "contribuíram a entrega mais rápida do varejo, a evolução do marketplace e o crescimento das novas categorias.\n",
      "\n",
      "Margem bruta estável. No 2121, a margem bruta foi de 25,6%, praticamente estável quando comparada ao mesmo\n",
      "período de 2020 (25,8% no 2T20). As vendas do e-commerce representaram 71,6% das vendas totais da Companhia no 2121,\n",
      "comparado a 78,5% no 2120.\n",
      "\n",
      "Despesas atingem um dos menores percentuais da história. O percentual das despesas operacionais ajustadas\n",
      "em relação à receita líquida atingiu 20,6% no 2T21, uma redução de 2,5 p.p. comparada ao 2T20, um dos menores patamares\n",
      "históricos. O forte crescimento de vendas e a eficiência proporcionada pelo modelo de negócio multicanal do Magalu\n",
      "contribuíram para esse resultado.\n",
      "\n",
      "EBITDA e lucro líquido. No 2T21, o crescimento das vendas e a diluição das despesas operacionais foram fundamentais\n",
      "\n",
      "m para a evolução do EBITDA ajustado, que atingiu R$455,4 milhões, crescendo expressivos 209,3% comparado ao 2T120. À\n",
      "margem EBITDA ajustada foi de 5,1%, um aumento de 2,5 p.p. em relação ao mesmo período do ano anterior. O lucro líquido\n",
      "ajustado atingiu R$89,1 milhões no 2721, revertendo o resultado negativo de R$62,2 milhões no 2T20. Considerando os\n",
      "ganhos líquidos não recorrentes, o lucro líquido foi de R$95,5 milhões.\n",
      "\n",
      "Geração de caixa e estrutura de capital. No trimestre, a geração de caixa operacional foi de R$401,8 milhões,\n",
      "influenciada pelos resultados positivos e pela variação do capital de giro. Nos últimos 12 meses, o fluxo de caixa das\n",
      "\n",
      "4% operações, ajustado pelos recebíveis de cartão de crédito, atingiu R$881,4 milhões. Em jun/21, a posição de caixa líquido\n",
      "ajustado foi de R$3,8 bilhões e a posição total de caixa ajustado foi de R$6,1 bilhões. Adicionando-se os recursos da oferta\n",
      "subsequente de ações concluída em jul/21, a posição total de caixa ajustado seria de R$10,0 bilhões.\n",
      "\n",
      "Fintech. Em jun/21, a base de cartões de crédito emitidos pela Luizacred atingiu a marca de 6,0 milhões de cartões,\n",
      "ª incluindo o Cartão Luiza e o recém-lançado Cartão Magalu, crescendo 19,5% comparado a jun/20. O faturamento (TPV) de\n",
      "cartão de crédito cresceu 63% no 2T21, atingindo R$9,6 bilhões no período, e a carteira de cartão de crédito alcançou R$13,5\n",
      "bilhões ao final do 2T21. Em jun/21, o MagaluPay chegou a 3,3 milhões de contas abertas.\n",
      "\n",
      "” Videoconferência Relações com Investidores\n",
      "B) SEA E Bdeagtodena etafeia) [ TeLSs aa aso627a?\n",
      "S EA ES in 16:00 no horário de Brasília: +55 (11) 3181-8565 Www.magazineluiza.com.br/ri\n",
      "\n",
      "Velorde Mercado: R$ 140,0 bilhões 15:00 no horário dos EUA (EST): +1 412 717 9627 riêmagazineluiza.com.br\n",
      "\n",
      "\n"
     ]
    }
   ],
   "source": [
    "# 1 - ler a imagem\n",
    "imagem = cv2.imread('print_magalu.JPG')\n",
    "\n",
    "# 2 - Extrair o texto da imagem com o tesseract\n",
    "texto = pytesseract.image_to_string(imagem, lang='por')\n",
    "\n",
    "print(texto)"
   ]
  },
  {
   "cell_type": "code",
   "execution_count": null,
   "id": "8c289197",
   "metadata": {},
   "outputs": [],
   "source": []
  }
 ],
 "metadata": {
  "kernelspec": {
   "display_name": "Python 3.9.7 64-bit ('base': conda)",
   "language": "python",
   "name": "python397jvsc74a57bd0b2e4510b7017812cdfafc63a823232b40686eff34486759b8b3cac5da40b4036"
  },
  "language_info": {
   "codemirror_mode": {
    "name": "ipython",
    "version": 3
   },
   "file_extension": ".py",
   "mimetype": "text/x-python",
   "name": "python",
   "nbconvert_exporter": "python",
   "pygments_lexer": "ipython3",
   "version": "3.9.7"
  }
 },
 "nbformat": 4,
 "nbformat_minor": 5
}
